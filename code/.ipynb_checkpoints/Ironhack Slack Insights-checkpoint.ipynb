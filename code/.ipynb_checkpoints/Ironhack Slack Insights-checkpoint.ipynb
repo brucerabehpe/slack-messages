{
 "cells": [
  {
   "cell_type": "code",
   "execution_count": 125,
   "id": "norwegian-terry",
   "metadata": {},
   "outputs": [],
   "source": [
    "# import basic libraries\n",
    "import os, json\n",
    "import pandas as pd\n",
    "import numpy as np\n",
    "import glob"
   ]
  },
  {
   "cell_type": "markdown",
   "id": "elegant-focus",
   "metadata": {},
   "source": [
    "### Loading One Json File into DataFrame"
   ]
  },
  {
   "cell_type": "code",
   "execution_count": 126,
   "id": "breathing-nowhere",
   "metadata": {},
   "outputs": [],
   "source": [
    "# this does the job for getting one json into a df\n",
    "with open('../data/lab-help/2021-05-06.json', 'r') as f:\n",
    "    data = json.load(f)\n",
    "df = pd.DataFrame(data)"
   ]
  },
  {
   "cell_type": "code",
   "execution_count": 152,
   "id": "understood-responsibility",
   "metadata": {
    "scrolled": true
   },
   "outputs": [
    {
     "data": {
      "text/plain": [
       "(142, 28)"
      ]
     },
     "execution_count": 152,
     "metadata": {},
     "output_type": "execute_result"
    }
   ],
   "source": [
    "# test\n",
    "df.shape"
   ]
  },
  {
   "cell_type": "code",
   "execution_count": 146,
   "id": "young-algebra",
   "metadata": {},
   "outputs": [],
   "source": [
    "# this does the job for getting another json into a df\n",
    "with open('../data/lab-help/2021-05-05.json', 'r') as f:\n",
    "    data = json.load(f)\n",
    "df2 = pd.DataFrame(data)"
   ]
  },
  {
   "cell_type": "code",
   "execution_count": 151,
   "id": "independent-vacation",
   "metadata": {
    "scrolled": true
   },
   "outputs": [
    {
     "data": {
      "text/plain": [
       "(142, 28)"
      ]
     },
     "execution_count": 151,
     "metadata": {},
     "output_type": "execute_result"
    }
   ],
   "source": [
    "df2.shape"
   ]
  },
  {
   "cell_type": "code",
   "execution_count": 149,
   "id": "victorian-sender",
   "metadata": {},
   "outputs": [],
   "source": [
    "df3 = pd.concat([df, df2])\n"
   ]
  },
  {
   "cell_type": "code",
   "execution_count": 150,
   "id": "isolated-method",
   "metadata": {},
   "outputs": [
    {
     "data": {
      "text/plain": [
       "(284, 28)"
      ]
     },
     "execution_count": 150,
     "metadata": {},
     "output_type": "execute_result"
    }
   ],
   "source": [
    "df3.shape"
   ]
  },
  {
   "cell_type": "markdown",
   "id": "essential-nightlife",
   "metadata": {},
   "source": [
    "that's great but very manual. "
   ]
  },
  {
   "cell_type": "markdown",
   "id": "alternative-albert",
   "metadata": {},
   "source": [
    "### Loading Multiple Json Files into One DataFrame"
   ]
  },
  {
   "cell_type": "code",
   "execution_count": 165,
   "id": "elegant-booth",
   "metadata": {},
   "outputs": [],
   "source": [
    "# not sure why it doesn't work but it should get all files into a df\n",
    "# file path is OK\n",
    "\n",
    "path_to_json = '../data/general/' \n",
    "\n",
    "json_pattern = os.path.join(path_to_json,'*.json')\n",
    "file_list = glob.glob(json_pattern)\n"
   ]
  },
  {
   "cell_type": "code",
   "execution_count": 182,
   "id": "august-steel",
   "metadata": {},
   "outputs": [
    {
     "ename": "SyntaxError",
     "evalue": "unexpected EOF while parsing (<ipython-input-182-00b8764b528c>, line 10)",
     "output_type": "error",
     "traceback": [
      "\u001b[0;36m  File \u001b[0;32m\"<ipython-input-182-00b8764b528c>\"\u001b[0;36m, line \u001b[0;32m10\u001b[0m\n\u001b[0;31m    #temp = pd.concat(dfs, ignore_index=True)\u001b[0m\n\u001b[0m                                             ^\u001b[0m\n\u001b[0;31mSyntaxError\u001b[0m\u001b[0;31m:\u001b[0m unexpected EOF while parsing\n"
     ]
    }
   ],
   "source": [
    "# an empty list to store the data frames\n",
    "dfs = []\n",
    "for file in file_list:\n",
    "    # read data frame from json file\n",
    "    data = pd.read_json(file, lines=True, orient='split')\n",
    "    # append the data frame to the list\n",
    "    dfs.append(data)\n",
    "\n",
    "# concatenate all the data frames in the list.\n",
    "temp = pd.concat(dfs, ignore_index=True)"
   ]
  },
  {
   "cell_type": "code",
   "execution_count": 177,
   "id": "steady-holmes",
   "metadata": {},
   "outputs": [
    {
     "data": {
      "text/plain": [
       "'../data/general/2021-05-09.json'"
      ]
     },
     "execution_count": 177,
     "metadata": {},
     "output_type": "execute_result"
    }
   ],
   "source": [
    "file"
   ]
  },
  {
   "cell_type": "markdown",
   "id": "polyphonic-testimony",
   "metadata": {},
   "source": [
    "https://stackoverflow.com/questions/44287011/valueerror-expected-object-or-value-when-reading-json-as-pandas-dataframe"
   ]
  },
  {
   "cell_type": "code",
   "execution_count": null,
   "id": "actual-music",
   "metadata": {},
   "outputs": [],
   "source": []
  },
  {
   "cell_type": "markdown",
   "id": "italic-homeless",
   "metadata": {},
   "source": [
    "### Trying a different method"
   ]
  },
  {
   "cell_type": "code",
   "execution_count": 132,
   "id": "unknown-favor",
   "metadata": {},
   "outputs": [],
   "source": [
    "#Path to the JSON files\n",
    "directory_path_general = \"../data/general/*\"\n",
    "directory_path_labhelp = \"../data/lab-help/*\""
   ]
  },
  {
   "cell_type": "code",
   "execution_count": 142,
   "id": "bronze-basis",
   "metadata": {},
   "outputs": [
    {
     "ename": "TypeError",
     "evalue": "'str' object cannot be interpreted as an integer",
     "output_type": "error",
     "traceback": [
      "\u001b[0;31m---------------------------------------------------------------------------\u001b[0m",
      "\u001b[0;31mTypeError\u001b[0m                                 Traceback (most recent call last)",
      "\u001b[0;32m<ipython-input-142-60640b95fd2a>\u001b[0m in \u001b[0;36m<module>\u001b[0;34m\u001b[0m\n\u001b[1;32m      2\u001b[0m \u001b[0mfile_path_general\u001b[0m \u001b[0;34m=\u001b[0m \u001b[0;34m[\u001b[0m\u001b[0;34m]\u001b[0m\u001b[0;34m\u001b[0m\u001b[0;34m\u001b[0m\u001b[0m\n\u001b[1;32m      3\u001b[0m \u001b[0mfile_path_labhelp\u001b[0m \u001b[0;34m=\u001b[0m \u001b[0;34m[\u001b[0m\u001b[0;34m]\u001b[0m\u001b[0;34m\u001b[0m\u001b[0;34m\u001b[0m\u001b[0m\n\u001b[0;32m----> 4\u001b[0;31m \u001b[0;32mfor\u001b[0m \u001b[0mind\u001b[0m \u001b[0;32min\u001b[0m \u001b[0mrange\u001b[0m\u001b[0;34m(\u001b[0m\u001b[0mdirectory_path_general\u001b[0m\u001b[0;34m)\u001b[0m\u001b[0;34m:\u001b[0m\u001b[0;34m\u001b[0m\u001b[0;34m\u001b[0m\u001b[0m\n\u001b[0m\u001b[1;32m      5\u001b[0m  \u001b[0mfile_path_general\u001b[0m\u001b[0;34m.\u001b[0m\u001b[0mappend\u001b[0m\u001b[0;34m(\u001b[0m\u001b[0mdirectory_path_general\u001b[0m \u001b[0;34m+\u001b[0m \u001b[0mstr\u001b[0m\u001b[0;34m(\u001b[0m\u001b[0mind\u001b[0m\u001b[0;34m)\u001b[0m \u001b[0;34m+\u001b[0m \u001b[0;34m\".json\"\u001b[0m\u001b[0;34m)\u001b[0m\u001b[0;34m\u001b[0m\u001b[0;34m\u001b[0m\u001b[0m\n\u001b[1;32m      6\u001b[0m \u001b[0;32mfor\u001b[0m \u001b[0mind\u001b[0m \u001b[0;32min\u001b[0m \u001b[0mrange\u001b[0m\u001b[0;34m(\u001b[0m\u001b[0mdirectory_path_labhelp\u001b[0m\u001b[0;34m)\u001b[0m\u001b[0;34m:\u001b[0m\u001b[0;34m\u001b[0m\u001b[0;34m\u001b[0m\u001b[0m\n",
      "\u001b[0;31mTypeError\u001b[0m: 'str' object cannot be interpreted as an integer"
     ]
    }
   ],
   "source": [
    "#Adding all the file names; \n",
    "file_path_general = []\n",
    "file_path_labhelp = []\n",
    "for ind in range(directory_path_general): \n",
    " file_path_general.append(directory_path_general + str(ind) + \".json\")\n",
    "for ind in range(directory_path_labhelp): \n",
    " file_path_labhelp.append(directory_path_labhelp + str(ind) + \".json\")"
   ]
  },
  {
   "cell_type": "code",
   "execution_count": 143,
   "id": "bored-manual",
   "metadata": {},
   "outputs": [
    {
     "ename": "TypeError",
     "evalue": "'str' object cannot be interpreted as an integer",
     "output_type": "error",
     "traceback": [
      "\u001b[0;31m---------------------------------------------------------------------------\u001b[0m",
      "\u001b[0;31mTypeError\u001b[0m                                 Traceback (most recent call last)",
      "\u001b[0;32m<ipython-input-143-53155c934611>\u001b[0m in \u001b[0;36m<module>\u001b[0;34m\u001b[0m\n\u001b[1;32m      1\u001b[0m \u001b[0;31m#Loading all the JSON files using file names\u001b[0m\u001b[0;34m\u001b[0m\u001b[0;34m\u001b[0m\u001b[0;34m\u001b[0m\u001b[0m\n\u001b[1;32m      2\u001b[0m \u001b[0mgeneral_channel_file\u001b[0m\u001b[0;34m=\u001b[0m\u001b[0;34m[\u001b[0m\u001b[0;34m]\u001b[0m\u001b[0;34m\u001b[0m\u001b[0;34m\u001b[0m\u001b[0m\n\u001b[0;32m----> 3\u001b[0;31m \u001b[0;32mfor\u001b[0m \u001b[0mind\u001b[0m \u001b[0;32min\u001b[0m \u001b[0mrange\u001b[0m\u001b[0;34m(\u001b[0m\u001b[0mdirectory_path_general\u001b[0m\u001b[0;34m)\u001b[0m\u001b[0;34m:\u001b[0m\u001b[0;34m\u001b[0m\u001b[0;34m\u001b[0m\u001b[0m\n\u001b[0m\u001b[1;32m      4\u001b[0m  \u001b[0;32mwith\u001b[0m \u001b[0mopen\u001b[0m\u001b[0;34m(\u001b[0m\u001b[0mfile_path_general\u001b[0m\u001b[0;34m[\u001b[0m\u001b[0mind\u001b[0m\u001b[0;34m]\u001b[0m\u001b[0;34m)\u001b[0m \u001b[0;32mas\u001b[0m \u001b[0mf\u001b[0m\u001b[0;34m:\u001b[0m\u001b[0;34m\u001b[0m\u001b[0;34m\u001b[0m\u001b[0m\n\u001b[1;32m      5\u001b[0m    \u001b[0mgeneral_channel_file\u001b[0m\u001b[0;34m.\u001b[0m\u001b[0mappend\u001b[0m\u001b[0;34m(\u001b[0m\u001b[0mjson\u001b[0m\u001b[0;34m.\u001b[0m\u001b[0mload\u001b[0m\u001b[0;34m(\u001b[0m\u001b[0mf\u001b[0m\u001b[0;34m)\u001b[0m\u001b[0;34m)\u001b[0m\u001b[0;34m\u001b[0m\u001b[0;34m\u001b[0m\u001b[0m\n",
      "\u001b[0;31mTypeError\u001b[0m: 'str' object cannot be interpreted as an integer"
     ]
    }
   ],
   "source": [
    "#Loading all the JSON files using file names\n",
    "general_channel_file=[]\n",
    "for ind in range(directory_path_general):\n",
    " with open(file_path_general[ind]) as f:\n",
    "   general_channel_file.append(json.load(f))\n",
    "labhelp_channel_file=[]\n",
    "for ind in range(directory_path_labhelp):\n",
    " with open(file_path_labhelp[ind]) as f:\n",
    "   labhelp_channe_file.append(json.load(f))\n"
   ]
  },
  {
   "cell_type": "code",
   "execution_count": 144,
   "id": "appointed-victoria",
   "metadata": {},
   "outputs": [
    {
     "ename": "NameError",
     "evalue": "name 'labhelp_channel_file' is not defined",
     "output_type": "error",
     "traceback": [
      "\u001b[0;31m---------------------------------------------------------------------------\u001b[0m",
      "\u001b[0;31mNameError\u001b[0m                                 Traceback (most recent call last)",
      "\u001b[0;32m<ipython-input-144-130e51b6985d>\u001b[0m in \u001b[0;36m<module>\u001b[0;34m\u001b[0m\n\u001b[1;32m      6\u001b[0m  \u001b[0;31m# dem_tweets['Party'] = 'Democrat'\u001b[0m\u001b[0;34m\u001b[0m\u001b[0;34m\u001b[0m\u001b[0;34m\u001b[0m\u001b[0m\n\u001b[1;32m      7\u001b[0m \u001b[0mlabhelp_channel\u001b[0m \u001b[0;34m=\u001b[0m \u001b[0mpd\u001b[0m\u001b[0;34m.\u001b[0m\u001b[0mDataFrame\u001b[0m\u001b[0;34m(\u001b[0m\u001b[0;34m)\u001b[0m\u001b[0;34m\u001b[0m\u001b[0;34m\u001b[0m\u001b[0m\n\u001b[0;32m----> 8\u001b[0;31m \u001b[0;32mfor\u001b[0m \u001b[0mind\u001b[0m \u001b[0;32min\u001b[0m \u001b[0mrange\u001b[0m\u001b[0;34m(\u001b[0m\u001b[0mlen\u001b[0m\u001b[0;34m(\u001b[0m\u001b[0mlabhelp_channel_file\u001b[0m\u001b[0;34m)\u001b[0m\u001b[0;34m)\u001b[0m\u001b[0;34m:\u001b[0m\u001b[0;34m\u001b[0m\u001b[0;34m\u001b[0m\u001b[0m\n\u001b[0m\u001b[1;32m      9\u001b[0m  labhelp_channel = labhelp_channel.append(pd.json_normalize \\\n\u001b[1;32m     10\u001b[0m                                      (labhelp_channel_file[ind]))\n",
      "\u001b[0;31mNameError\u001b[0m: name 'labhelp_channel_file' is not defined"
     ]
    }
   ],
   "source": [
    "#Converting the JSON files to Data Frames\n",
    "general_channel = pd.DataFrame()\n",
    "for ind in range(len(general_channel_file)):\n",
    " general_channel=general_channel.append(pd.json_normalize \\\n",
    "                                       (general_channel_file[ind]))\n",
    " # dem_tweets['Party'] = 'Democrat'\n",
    "labhelp_channel = pd.DataFrame()\n",
    "for ind in range(len(labhelp_channel_file)):\n",
    " labhelp_channel = labhelp_channel.append(pd.json_normalize \\\n",
    "                                     (labhelp_channel_file[ind]))\n",
    " #rep_tweets['Party'] = 'Republican'"
   ]
  },
  {
   "cell_type": "code",
   "execution_count": null,
   "id": "adjacent-expression",
   "metadata": {},
   "outputs": [],
   "source": []
  },
  {
   "cell_type": "code",
   "execution_count": null,
   "id": "verbal-canon",
   "metadata": {},
   "outputs": [],
   "source": []
  },
  {
   "cell_type": "code",
   "execution_count": null,
   "id": "applied-statistics",
   "metadata": {},
   "outputs": [],
   "source": []
  }
 ],
 "metadata": {
  "kernelspec": {
   "display_name": "Python 3",
   "language": "python",
   "name": "python3"
  },
  "language_info": {
   "codemirror_mode": {
    "name": "ipython",
    "version": 3
   },
   "file_extension": ".py",
   "mimetype": "text/x-python",
   "name": "python",
   "nbconvert_exporter": "python",
   "pygments_lexer": "ipython3",
   "version": "3.8.5"
  }
 },
 "nbformat": 4,
 "nbformat_minor": 5
}
