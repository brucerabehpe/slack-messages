{
 "cells": [
  {
   "cell_type": "code",
   "execution_count": 125,
   "id": "norwegian-terry",
   "metadata": {},
   "outputs": [],
   "source": [
    "# import basic libraries\n",
    "import os, json\n",
    "import pandas as pd\n",
    "import numpy as np\n",
    "import glob"
   ]
  },
  {
   "cell_type": "code",
   "execution_count": 126,
   "id": "breathing-nowhere",
   "metadata": {},
   "outputs": [],
   "source": [
    "# this does the job for getting one json into a df\n",
    "with open('../data/lab-help/2021-05-06.json', 'r') as f:\n",
    "    data = json.load(f)\n",
    "df = pd.DataFrame(data)"
   ]
  },
  {
   "cell_type": "code",
   "execution_count": 152,
   "id": "forty-kitchen",
   "metadata": {
    "scrolled": true
   },
   "outputs": [
    {
     "data": {
      "text/plain": [
       "(142, 28)"
      ]
     },
     "execution_count": 152,
     "metadata": {},
     "output_type": "execute_result"
    }
   ],
   "source": [
    "# test\n",
    "df.shape"
   ]
  },
  {
   "cell_type": "code",
   "execution_count": 146,
   "id": "academic-establishment",
   "metadata": {},
   "outputs": [],
   "source": [
    "# this does the job for getting one json into a df\n",
    "with open('../data/lab-help/2021-05-05.json', 'r') as f:\n",
    "    data = json.load(f)\n",
    "df2 = pd.DataFrame(data)"
   ]
  },
  {
   "cell_type": "code",
   "execution_count": 151,
   "id": "unable-arrow",
   "metadata": {
    "scrolled": true
   },
   "outputs": [
    {
     "data": {
      "text/plain": [
       "(142, 28)"
      ]
     },
     "execution_count": 151,
     "metadata": {},
     "output_type": "execute_result"
    }
   ],
   "source": [
    "df2.shape"
   ]
  },
  {
   "cell_type": "code",
   "execution_count": 149,
   "id": "indonesian-advertising",
   "metadata": {},
   "outputs": [],
   "source": [
    "df3 = pd.concat([df, df2])\n"
   ]
  },
  {
   "cell_type": "code",
   "execution_count": 150,
   "id": "altered-affairs",
   "metadata": {},
   "outputs": [
    {
     "data": {
      "text/plain": [
       "(284, 28)"
      ]
     },
     "execution_count": 150,
     "metadata": {},
     "output_type": "execute_result"
    }
   ],
   "source": [
    "df3.shape"
   ]
  },
  {
   "cell_type": "code",
   "execution_count": 128,
   "id": "cubic-donor",
   "metadata": {},
   "outputs": [],
   "source": [
    "# first try to get all json files into one dataframe from that folder, \n",
    "# not sure what this does, but doesn't get me all the columns\n",
    "# file path shows that it should get all -> *\n",
    "\n",
    "data = []\n",
    "\n",
    "files = glob.glob('../data/general/*', recursive=True)\n",
    "\n",
    "# Loop through files\n",
    "for single_file in files:\n",
    "    with open(single_file, 'r') as f:\n",
    "        json_file = json.load(f)\n",
    "df = pd.DataFrame(json_file)"
   ]
  },
  {
   "cell_type": "code",
   "execution_count": 129,
   "id": "forbidden-security",
   "metadata": {},
   "outputs": [
    {
     "data": {
      "text/html": [
       "<div>\n",
       "<style scoped>\n",
       "    .dataframe tbody tr th:only-of-type {\n",
       "        vertical-align: middle;\n",
       "    }\n",
       "\n",
       "    .dataframe tbody tr th {\n",
       "        vertical-align: top;\n",
       "    }\n",
       "\n",
       "    .dataframe thead th {\n",
       "        text-align: right;\n",
       "    }\n",
       "</style>\n",
       "<table border=\"1\" class=\"dataframe\">\n",
       "  <thead>\n",
       "    <tr style=\"text-align: right;\">\n",
       "      <th></th>\n",
       "      <th>type</th>\n",
       "      <th>subtype</th>\n",
       "      <th>ts</th>\n",
       "      <th>user</th>\n",
       "      <th>text</th>\n",
       "    </tr>\n",
       "  </thead>\n",
       "  <tbody>\n",
       "    <tr>\n",
       "      <th>0</th>\n",
       "      <td>message</td>\n",
       "      <td>channel_join</td>\n",
       "      <td>1616158729.000200</td>\n",
       "      <td>U01S79YDELR</td>\n",
       "      <td>&lt;@U01S79YDELR&gt; has joined the channel</td>\n",
       "    </tr>\n",
       "    <tr>\n",
       "      <th>1</th>\n",
       "      <td>message</td>\n",
       "      <td>channel_join</td>\n",
       "      <td>1616158788.000400</td>\n",
       "      <td>U01RUTP1ZQB</td>\n",
       "      <td>&lt;@U01RUTP1ZQB&gt; has joined the channel</td>\n",
       "    </tr>\n",
       "    <tr>\n",
       "      <th>2</th>\n",
       "      <td>message</td>\n",
       "      <td>channel_join</td>\n",
       "      <td>1616159021.000700</td>\n",
       "      <td>U01RUU9SK4K</td>\n",
       "      <td>&lt;@U01RUU9SK4K&gt; has joined the channel</td>\n",
       "    </tr>\n",
       "    <tr>\n",
       "      <th>3</th>\n",
       "      <td>message</td>\n",
       "      <td>channel_join</td>\n",
       "      <td>1616159457.000900</td>\n",
       "      <td>U01S7BM4N81</td>\n",
       "      <td>&lt;@U01S7BM4N81&gt; has joined the channel</td>\n",
       "    </tr>\n",
       "    <tr>\n",
       "      <th>4</th>\n",
       "      <td>message</td>\n",
       "      <td>channel_join</td>\n",
       "      <td>1616160530.001100</td>\n",
       "      <td>U01SJKB2MG8</td>\n",
       "      <td>&lt;@U01SJKB2MG8&gt; has joined the channel</td>\n",
       "    </tr>\n",
       "    <tr>\n",
       "      <th>5</th>\n",
       "      <td>message</td>\n",
       "      <td>channel_join</td>\n",
       "      <td>1616161193.001300</td>\n",
       "      <td>U01RV3K524T</td>\n",
       "      <td>&lt;@U01RV3K524T&gt; has joined the channel</td>\n",
       "    </tr>\n",
       "    <tr>\n",
       "      <th>6</th>\n",
       "      <td>message</td>\n",
       "      <td>channel_join</td>\n",
       "      <td>1616161614.001500</td>\n",
       "      <td>U01S133DZ9A</td>\n",
       "      <td>&lt;@U01S133DZ9A&gt; has joined the channel</td>\n",
       "    </tr>\n",
       "    <tr>\n",
       "      <th>7</th>\n",
       "      <td>message</td>\n",
       "      <td>channel_join</td>\n",
       "      <td>1616162617.001700</td>\n",
       "      <td>U01RN7BVD1C</td>\n",
       "      <td>&lt;@U01RN7BVD1C&gt; has joined the channel</td>\n",
       "    </tr>\n",
       "    <tr>\n",
       "      <th>8</th>\n",
       "      <td>message</td>\n",
       "      <td>channel_join</td>\n",
       "      <td>1616162776.001900</td>\n",
       "      <td>U01S7KCL3DF</td>\n",
       "      <td>&lt;@U01S7KCL3DF&gt; has joined the channel</td>\n",
       "    </tr>\n",
       "    <tr>\n",
       "      <th>9</th>\n",
       "      <td>message</td>\n",
       "      <td>channel_join</td>\n",
       "      <td>1616165496.002400</td>\n",
       "      <td>U01S1CWGTU4</td>\n",
       "      <td>&lt;@U01S1CWGTU4&gt; has joined the channel</td>\n",
       "    </tr>\n",
       "    <tr>\n",
       "      <th>10</th>\n",
       "      <td>message</td>\n",
       "      <td>channel_join</td>\n",
       "      <td>1616165610.002600</td>\n",
       "      <td>U01RNEU3SNA</td>\n",
       "      <td>&lt;@U01RNEU3SNA&gt; has joined the channel</td>\n",
       "    </tr>\n",
       "    <tr>\n",
       "      <th>11</th>\n",
       "      <td>message</td>\n",
       "      <td>channel_join</td>\n",
       "      <td>1616167026.002800</td>\n",
       "      <td>U01RS9Y6UJH</td>\n",
       "      <td>&lt;@U01RS9Y6UJH&gt; has joined the channel</td>\n",
       "    </tr>\n",
       "    <tr>\n",
       "      <th>12</th>\n",
       "      <td>message</td>\n",
       "      <td>channel_join</td>\n",
       "      <td>1616168064.003300</td>\n",
       "      <td>U01SK96QF5E</td>\n",
       "      <td>&lt;@U01SK96QF5E&gt; has joined the channel</td>\n",
       "    </tr>\n",
       "    <tr>\n",
       "      <th>13</th>\n",
       "      <td>message</td>\n",
       "      <td>channel_join</td>\n",
       "      <td>1616172018.003700</td>\n",
       "      <td>U01RP2K1606</td>\n",
       "      <td>&lt;@U01RP2K1606&gt; has joined the channel</td>\n",
       "    </tr>\n",
       "    <tr>\n",
       "      <th>14</th>\n",
       "      <td>message</td>\n",
       "      <td>channel_join</td>\n",
       "      <td>1616172267.003900</td>\n",
       "      <td>U01RW2X7S9Z</td>\n",
       "      <td>&lt;@U01RW2X7S9Z&gt; has joined the channel</td>\n",
       "    </tr>\n",
       "  </tbody>\n",
       "</table>\n",
       "</div>"
      ],
      "text/plain": [
       "       type       subtype                 ts         user  \\\n",
       "0   message  channel_join  1616158729.000200  U01S79YDELR   \n",
       "1   message  channel_join  1616158788.000400  U01RUTP1ZQB   \n",
       "2   message  channel_join  1616159021.000700  U01RUU9SK4K   \n",
       "3   message  channel_join  1616159457.000900  U01S7BM4N81   \n",
       "4   message  channel_join  1616160530.001100  U01SJKB2MG8   \n",
       "5   message  channel_join  1616161193.001300  U01RV3K524T   \n",
       "6   message  channel_join  1616161614.001500  U01S133DZ9A   \n",
       "7   message  channel_join  1616162617.001700  U01RN7BVD1C   \n",
       "8   message  channel_join  1616162776.001900  U01S7KCL3DF   \n",
       "9   message  channel_join  1616165496.002400  U01S1CWGTU4   \n",
       "10  message  channel_join  1616165610.002600  U01RNEU3SNA   \n",
       "11  message  channel_join  1616167026.002800  U01RS9Y6UJH   \n",
       "12  message  channel_join  1616168064.003300  U01SK96QF5E   \n",
       "13  message  channel_join  1616172018.003700  U01RP2K1606   \n",
       "14  message  channel_join  1616172267.003900  U01RW2X7S9Z   \n",
       "\n",
       "                                     text  \n",
       "0   <@U01S79YDELR> has joined the channel  \n",
       "1   <@U01RUTP1ZQB> has joined the channel  \n",
       "2   <@U01RUU9SK4K> has joined the channel  \n",
       "3   <@U01S7BM4N81> has joined the channel  \n",
       "4   <@U01SJKB2MG8> has joined the channel  \n",
       "5   <@U01RV3K524T> has joined the channel  \n",
       "6   <@U01S133DZ9A> has joined the channel  \n",
       "7   <@U01RN7BVD1C> has joined the channel  \n",
       "8   <@U01S7KCL3DF> has joined the channel  \n",
       "9   <@U01S1CWGTU4> has joined the channel  \n",
       "10  <@U01RNEU3SNA> has joined the channel  \n",
       "11  <@U01RS9Y6UJH> has joined the channel  \n",
       "12  <@U01SK96QF5E> has joined the channel  \n",
       "13  <@U01RP2K1606> has joined the channel  \n",
       "14  <@U01RW2X7S9Z> has joined the channel  "
      ]
     },
     "execution_count": 129,
     "metadata": {},
     "output_type": "execute_result"
    }
   ],
   "source": [
    "# test \n",
    "df.head(100)"
   ]
  },
  {
   "cell_type": "code",
   "execution_count": null,
   "id": "international-writer",
   "metadata": {},
   "outputs": [],
   "source": []
  },
  {
   "cell_type": "code",
   "execution_count": 130,
   "id": "medical-webster",
   "metadata": {},
   "outputs": [],
   "source": [
    "# second try, again, not sure why it doesn't work but it should get all files into a df\n",
    "\n",
    "path_to_json = '../data/general/*.json' \n",
    "\n",
    "json_pattern = os.path.join(path_to_json,'*.json')\n",
    "file_list = glob.glob(json_pattern)\n"
   ]
  },
  {
   "cell_type": "code",
   "execution_count": 131,
   "id": "acknowledged-pride",
   "metadata": {},
   "outputs": [
    {
     "ename": "ValueError",
     "evalue": "No objects to concatenate",
     "output_type": "error",
     "traceback": [
      "\u001b[0;31m---------------------------------------------------------------------------\u001b[0m",
      "\u001b[0;31mValueError\u001b[0m                                Traceback (most recent call last)",
      "\u001b[0;32m<ipython-input-131-102877058c7a>\u001b[0m in \u001b[0;36m<module>\u001b[0;34m\u001b[0m\n\u001b[1;32m      4\u001b[0m     \u001b[0mdfs\u001b[0m\u001b[0;34m.\u001b[0m\u001b[0mappend\u001b[0m\u001b[0;34m(\u001b[0m\u001b[0mdata\u001b[0m\u001b[0;34m)\u001b[0m \u001b[0;31m# append the data frame to the list\u001b[0m\u001b[0;34m\u001b[0m\u001b[0;34m\u001b[0m\u001b[0m\n\u001b[1;32m      5\u001b[0m \u001b[0;34m\u001b[0m\u001b[0m\n\u001b[0;32m----> 6\u001b[0;31m \u001b[0mtemp\u001b[0m \u001b[0;34m=\u001b[0m \u001b[0mpd\u001b[0m\u001b[0;34m.\u001b[0m\u001b[0mconcat\u001b[0m\u001b[0;34m(\u001b[0m\u001b[0mdfs\u001b[0m\u001b[0;34m,\u001b[0m \u001b[0mignore_index\u001b[0m\u001b[0;34m=\u001b[0m\u001b[0;32mTrue\u001b[0m\u001b[0;34m)\u001b[0m \u001b[0;31m# concatenate all the data frames in the list.\u001b[0m\u001b[0;34m\u001b[0m\u001b[0;34m\u001b[0m\u001b[0m\n\u001b[0m",
      "\u001b[0;32m~/opt/anaconda3/lib/python3.8/site-packages/pandas/core/reshape/concat.py\u001b[0m in \u001b[0;36mconcat\u001b[0;34m(objs, axis, join, ignore_index, keys, levels, names, verify_integrity, sort, copy)\u001b[0m\n\u001b[1;32m    283\u001b[0m     \u001b[0mValueError\u001b[0m\u001b[0;34m:\u001b[0m \u001b[0mIndexes\u001b[0m \u001b[0mhave\u001b[0m \u001b[0moverlapping\u001b[0m \u001b[0mvalues\u001b[0m\u001b[0;34m:\u001b[0m \u001b[0;34m[\u001b[0m\u001b[0;34m'a'\u001b[0m\u001b[0;34m]\u001b[0m\u001b[0;34m\u001b[0m\u001b[0;34m\u001b[0m\u001b[0m\n\u001b[1;32m    284\u001b[0m     \"\"\"\n\u001b[0;32m--> 285\u001b[0;31m     op = _Concatenator(\n\u001b[0m\u001b[1;32m    286\u001b[0m         \u001b[0mobjs\u001b[0m\u001b[0;34m,\u001b[0m\u001b[0;34m\u001b[0m\u001b[0;34m\u001b[0m\u001b[0m\n\u001b[1;32m    287\u001b[0m         \u001b[0maxis\u001b[0m\u001b[0;34m=\u001b[0m\u001b[0maxis\u001b[0m\u001b[0;34m,\u001b[0m\u001b[0;34m\u001b[0m\u001b[0;34m\u001b[0m\u001b[0m\n",
      "\u001b[0;32m~/opt/anaconda3/lib/python3.8/site-packages/pandas/core/reshape/concat.py\u001b[0m in \u001b[0;36m__init__\u001b[0;34m(self, objs, axis, join, keys, levels, names, ignore_index, verify_integrity, copy, sort)\u001b[0m\n\u001b[1;32m    340\u001b[0m \u001b[0;34m\u001b[0m\u001b[0m\n\u001b[1;32m    341\u001b[0m         \u001b[0;32mif\u001b[0m \u001b[0mlen\u001b[0m\u001b[0;34m(\u001b[0m\u001b[0mobjs\u001b[0m\u001b[0;34m)\u001b[0m \u001b[0;34m==\u001b[0m \u001b[0;36m0\u001b[0m\u001b[0;34m:\u001b[0m\u001b[0;34m\u001b[0m\u001b[0;34m\u001b[0m\u001b[0m\n\u001b[0;32m--> 342\u001b[0;31m             \u001b[0;32mraise\u001b[0m \u001b[0mValueError\u001b[0m\u001b[0;34m(\u001b[0m\u001b[0;34m\"No objects to concatenate\"\u001b[0m\u001b[0;34m)\u001b[0m\u001b[0;34m\u001b[0m\u001b[0;34m\u001b[0m\u001b[0m\n\u001b[0m\u001b[1;32m    343\u001b[0m \u001b[0;34m\u001b[0m\u001b[0m\n\u001b[1;32m    344\u001b[0m         \u001b[0;32mif\u001b[0m \u001b[0mkeys\u001b[0m \u001b[0;32mis\u001b[0m \u001b[0;32mNone\u001b[0m\u001b[0;34m:\u001b[0m\u001b[0;34m\u001b[0m\u001b[0;34m\u001b[0m\u001b[0m\n",
      "\u001b[0;31mValueError\u001b[0m: No objects to concatenate"
     ]
    }
   ],
   "source": [
    "dfs = [] # an empty list to store the data frames\n",
    "for file in file_list:\n",
    "    data = pd.read_json(file, lines=True) # read data frame from json file\n",
    "    dfs.append(data) # append the data frame to the list\n",
    "\n",
    "temp = pd.concat(dfs, ignore_index=True) # concatenate all the data frames in the list."
   ]
  },
  {
   "cell_type": "code",
   "execution_count": 132,
   "id": "limited-mitchell",
   "metadata": {},
   "outputs": [],
   "source": [
    "#Path to the JSON files\n",
    "directory_path_general = \"../data/general/*\"\n",
    "directory_path_labhelp = \"../data/lab-help/*\""
   ]
  },
  {
   "cell_type": "code",
   "execution_count": 142,
   "id": "leading-estonia",
   "metadata": {},
   "outputs": [
    {
     "ename": "TypeError",
     "evalue": "'str' object cannot be interpreted as an integer",
     "output_type": "error",
     "traceback": [
      "\u001b[0;31m---------------------------------------------------------------------------\u001b[0m",
      "\u001b[0;31mTypeError\u001b[0m                                 Traceback (most recent call last)",
      "\u001b[0;32m<ipython-input-142-60640b95fd2a>\u001b[0m in \u001b[0;36m<module>\u001b[0;34m\u001b[0m\n\u001b[1;32m      2\u001b[0m \u001b[0mfile_path_general\u001b[0m \u001b[0;34m=\u001b[0m \u001b[0;34m[\u001b[0m\u001b[0;34m]\u001b[0m\u001b[0;34m\u001b[0m\u001b[0;34m\u001b[0m\u001b[0m\n\u001b[1;32m      3\u001b[0m \u001b[0mfile_path_labhelp\u001b[0m \u001b[0;34m=\u001b[0m \u001b[0;34m[\u001b[0m\u001b[0;34m]\u001b[0m\u001b[0;34m\u001b[0m\u001b[0;34m\u001b[0m\u001b[0m\n\u001b[0;32m----> 4\u001b[0;31m \u001b[0;32mfor\u001b[0m \u001b[0mind\u001b[0m \u001b[0;32min\u001b[0m \u001b[0mrange\u001b[0m\u001b[0;34m(\u001b[0m\u001b[0mdirectory_path_general\u001b[0m\u001b[0;34m)\u001b[0m\u001b[0;34m:\u001b[0m\u001b[0;34m\u001b[0m\u001b[0;34m\u001b[0m\u001b[0m\n\u001b[0m\u001b[1;32m      5\u001b[0m  \u001b[0mfile_path_general\u001b[0m\u001b[0;34m.\u001b[0m\u001b[0mappend\u001b[0m\u001b[0;34m(\u001b[0m\u001b[0mdirectory_path_general\u001b[0m \u001b[0;34m+\u001b[0m \u001b[0mstr\u001b[0m\u001b[0;34m(\u001b[0m\u001b[0mind\u001b[0m\u001b[0;34m)\u001b[0m \u001b[0;34m+\u001b[0m \u001b[0;34m\".json\"\u001b[0m\u001b[0;34m)\u001b[0m\u001b[0;34m\u001b[0m\u001b[0;34m\u001b[0m\u001b[0m\n\u001b[1;32m      6\u001b[0m \u001b[0;32mfor\u001b[0m \u001b[0mind\u001b[0m \u001b[0;32min\u001b[0m \u001b[0mrange\u001b[0m\u001b[0;34m(\u001b[0m\u001b[0mdirectory_path_labhelp\u001b[0m\u001b[0;34m)\u001b[0m\u001b[0;34m:\u001b[0m\u001b[0;34m\u001b[0m\u001b[0;34m\u001b[0m\u001b[0m\n",
      "\u001b[0;31mTypeError\u001b[0m: 'str' object cannot be interpreted as an integer"
     ]
    }
   ],
   "source": [
    "#Adding all the file names; \n",
    "file_path_general = []\n",
    "file_path_labhelp = []\n",
    "for ind in range(directory_path_general): \n",
    " file_path_general.append(directory_path_general + str(ind) + \".json\")\n",
    "for ind in range(directory_path_labhelp): \n",
    " file_path_labhelp.append(directory_path_labhelp + str(ind) + \".json\")"
   ]
  },
  {
   "cell_type": "code",
   "execution_count": 143,
   "id": "continent-anaheim",
   "metadata": {},
   "outputs": [
    {
     "ename": "TypeError",
     "evalue": "'str' object cannot be interpreted as an integer",
     "output_type": "error",
     "traceback": [
      "\u001b[0;31m---------------------------------------------------------------------------\u001b[0m",
      "\u001b[0;31mTypeError\u001b[0m                                 Traceback (most recent call last)",
      "\u001b[0;32m<ipython-input-143-53155c934611>\u001b[0m in \u001b[0;36m<module>\u001b[0;34m\u001b[0m\n\u001b[1;32m      1\u001b[0m \u001b[0;31m#Loading all the JSON files using file names\u001b[0m\u001b[0;34m\u001b[0m\u001b[0;34m\u001b[0m\u001b[0;34m\u001b[0m\u001b[0m\n\u001b[1;32m      2\u001b[0m \u001b[0mgeneral_channel_file\u001b[0m\u001b[0;34m=\u001b[0m\u001b[0;34m[\u001b[0m\u001b[0;34m]\u001b[0m\u001b[0;34m\u001b[0m\u001b[0;34m\u001b[0m\u001b[0m\n\u001b[0;32m----> 3\u001b[0;31m \u001b[0;32mfor\u001b[0m \u001b[0mind\u001b[0m \u001b[0;32min\u001b[0m \u001b[0mrange\u001b[0m\u001b[0;34m(\u001b[0m\u001b[0mdirectory_path_general\u001b[0m\u001b[0;34m)\u001b[0m\u001b[0;34m:\u001b[0m\u001b[0;34m\u001b[0m\u001b[0;34m\u001b[0m\u001b[0m\n\u001b[0m\u001b[1;32m      4\u001b[0m  \u001b[0;32mwith\u001b[0m \u001b[0mopen\u001b[0m\u001b[0;34m(\u001b[0m\u001b[0mfile_path_general\u001b[0m\u001b[0;34m[\u001b[0m\u001b[0mind\u001b[0m\u001b[0;34m]\u001b[0m\u001b[0;34m)\u001b[0m \u001b[0;32mas\u001b[0m \u001b[0mf\u001b[0m\u001b[0;34m:\u001b[0m\u001b[0;34m\u001b[0m\u001b[0;34m\u001b[0m\u001b[0m\n\u001b[1;32m      5\u001b[0m    \u001b[0mgeneral_channel_file\u001b[0m\u001b[0;34m.\u001b[0m\u001b[0mappend\u001b[0m\u001b[0;34m(\u001b[0m\u001b[0mjson\u001b[0m\u001b[0;34m.\u001b[0m\u001b[0mload\u001b[0m\u001b[0;34m(\u001b[0m\u001b[0mf\u001b[0m\u001b[0;34m)\u001b[0m\u001b[0;34m)\u001b[0m\u001b[0;34m\u001b[0m\u001b[0;34m\u001b[0m\u001b[0m\n",
      "\u001b[0;31mTypeError\u001b[0m: 'str' object cannot be interpreted as an integer"
     ]
    }
   ],
   "source": [
    "#Loading all the JSON files using file names\n",
    "general_channel_file=[]\n",
    "for ind in range(directory_path_general):\n",
    " with open(file_path_general[ind]) as f:\n",
    "   general_channel_file.append(json.load(f))\n",
    "labhelp_channel_file=[]\n",
    "for ind in range(directory_path_labhelp):\n",
    " with open(file_path_labhelp[ind]) as f:\n",
    "   labhelp_channe_file.append(json.load(f))\n"
   ]
  },
  {
   "cell_type": "code",
   "execution_count": 144,
   "id": "expired-dover",
   "metadata": {},
   "outputs": [
    {
     "ename": "NameError",
     "evalue": "name 'labhelp_channel_file' is not defined",
     "output_type": "error",
     "traceback": [
      "\u001b[0;31m---------------------------------------------------------------------------\u001b[0m",
      "\u001b[0;31mNameError\u001b[0m                                 Traceback (most recent call last)",
      "\u001b[0;32m<ipython-input-144-130e51b6985d>\u001b[0m in \u001b[0;36m<module>\u001b[0;34m\u001b[0m\n\u001b[1;32m      6\u001b[0m  \u001b[0;31m# dem_tweets['Party'] = 'Democrat'\u001b[0m\u001b[0;34m\u001b[0m\u001b[0;34m\u001b[0m\u001b[0;34m\u001b[0m\u001b[0m\n\u001b[1;32m      7\u001b[0m \u001b[0mlabhelp_channel\u001b[0m \u001b[0;34m=\u001b[0m \u001b[0mpd\u001b[0m\u001b[0;34m.\u001b[0m\u001b[0mDataFrame\u001b[0m\u001b[0;34m(\u001b[0m\u001b[0;34m)\u001b[0m\u001b[0;34m\u001b[0m\u001b[0;34m\u001b[0m\u001b[0m\n\u001b[0;32m----> 8\u001b[0;31m \u001b[0;32mfor\u001b[0m \u001b[0mind\u001b[0m \u001b[0;32min\u001b[0m \u001b[0mrange\u001b[0m\u001b[0;34m(\u001b[0m\u001b[0mlen\u001b[0m\u001b[0;34m(\u001b[0m\u001b[0mlabhelp_channel_file\u001b[0m\u001b[0;34m)\u001b[0m\u001b[0;34m)\u001b[0m\u001b[0;34m:\u001b[0m\u001b[0;34m\u001b[0m\u001b[0;34m\u001b[0m\u001b[0m\n\u001b[0m\u001b[1;32m      9\u001b[0m  labhelp_channel = labhelp_channel.append(pd.json_normalize \\\n\u001b[1;32m     10\u001b[0m                                      (labhelp_channel_file[ind]))\n",
      "\u001b[0;31mNameError\u001b[0m: name 'labhelp_channel_file' is not defined"
     ]
    }
   ],
   "source": [
    "#Converting the JSON files to Data Frames\n",
    "general_channel = pd.DataFrame()\n",
    "for ind in range(len(general_channel_file)):\n",
    " general_channel=general_channel.append(pd.json_normalize \\\n",
    "                                       (general_channel_file[ind]))\n",
    " # dem_tweets['Party'] = 'Democrat'\n",
    "labhelp_channel = pd.DataFrame()\n",
    "for ind in range(len(labhelp_channel_file)):\n",
    " labhelp_channel = labhelp_channel.append(pd.json_normalize \\\n",
    "                                     (labhelp_channel_file[ind]))\n",
    " #rep_tweets['Party'] = 'Republican'"
   ]
  },
  {
   "cell_type": "code",
   "execution_count": null,
   "id": "affecting-negotiation",
   "metadata": {},
   "outputs": [],
   "source": []
  },
  {
   "cell_type": "code",
   "execution_count": null,
   "id": "rolled-humanitarian",
   "metadata": {},
   "outputs": [],
   "source": []
  },
  {
   "cell_type": "code",
   "execution_count": null,
   "id": "resident-cancer",
   "metadata": {},
   "outputs": [],
   "source": []
  }
 ],
 "metadata": {
  "kernelspec": {
   "display_name": "Python 3",
   "language": "python",
   "name": "python3"
  },
  "language_info": {
   "codemirror_mode": {
    "name": "ipython",
    "version": 3
   },
   "file_extension": ".py",
   "mimetype": "text/x-python",
   "name": "python",
   "nbconvert_exporter": "python",
   "pygments_lexer": "ipython3",
   "version": "3.8.5"
  }
 },
 "nbformat": 4,
 "nbformat_minor": 5
}
