{
 "cells": [
  {
   "cell_type": "code",
   "execution_count": 1,
   "id": "certain-dimension",
   "metadata": {},
   "outputs": [],
   "source": [
    "# import basic libraries \n",
    "import numpy as np\n",
    "import pandas as pd\n",
    "import matplotlib.pyplot as plt\n",
    "import seaborn as sns\n",
    "\n",
    "%matplotlib inline"
   ]
  },
  {
   "cell_type": "code",
   "execution_count": 2,
   "id": "unsigned-clothing",
   "metadata": {
    "scrolled": true
   },
   "outputs": [],
   "source": [
    "# read csv\n",
    "df = pd.read_csv('../data/data_clean.csv')"
   ]
  },
  {
   "cell_type": "code",
   "execution_count": 3,
   "id": "portuguese-prevention",
   "metadata": {},
   "outputs": [
    {
     "data": {
      "text/html": [
       "<div>\n",
       "<style scoped>\n",
       "    .dataframe tbody tr th:only-of-type {\n",
       "        vertical-align: middle;\n",
       "    }\n",
       "\n",
       "    .dataframe tbody tr th {\n",
       "        vertical-align: top;\n",
       "    }\n",
       "\n",
       "    .dataframe thead th {\n",
       "        text-align: right;\n",
       "    }\n",
       "</style>\n",
       "<table border=\"1\" class=\"dataframe\">\n",
       "  <thead>\n",
       "    <tr style=\"text-align: right;\">\n",
       "      <th></th>\n",
       "      <th>channel_name</th>\n",
       "      <th>user</th>\n",
       "      <th>real_name</th>\n",
       "      <th>text</th>\n",
       "      <th>text_length</th>\n",
       "      <th>reply_count</th>\n",
       "      <th>reply_users_count</th>\n",
       "      <th>replies_true</th>\n",
       "      <th>day_name</th>\n",
       "      <th>day_type</th>\n",
       "      <th>time</th>\n",
       "      <th>day_number</th>\n",
       "      <th>month</th>\n",
       "      <th>reactions_count</th>\n",
       "      <th>link_of_file</th>\n",
       "      <th>files_true</th>\n",
       "      <th>link_of_attachments</th>\n",
       "      <th>attachments_true</th>\n",
       "      <th>reaction_true</th>\n",
       "    </tr>\n",
       "  </thead>\n",
       "  <tbody>\n",
       "    <tr>\n",
       "      <th>0</th>\n",
       "      <td>general</td>\n",
       "      <td>U01S79YDELR</td>\n",
       "      <td>Karina Condeixa</td>\n",
       "      <td>Hang told me to add it in education</td>\n",
       "      <td>35</td>\n",
       "      <td>0</td>\n",
       "      <td>0</td>\n",
       "      <td>False</td>\n",
       "      <td>Sunday</td>\n",
       "      <td>Weekend</td>\n",
       "      <td>08:00</td>\n",
       "      <td>9</td>\n",
       "      <td>May</td>\n",
       "      <td>0</td>\n",
       "      <td>nofile</td>\n",
       "      <td>False</td>\n",
       "      <td>nolink</td>\n",
       "      <td>False</td>\n",
       "      <td>False</td>\n",
       "    </tr>\n",
       "    <tr>\n",
       "      <th>1</th>\n",
       "      <td>general</td>\n",
       "      <td>U01S79YDELR</td>\n",
       "      <td>Karina Condeixa</td>\n",
       "      <td>What improved my score was adding metrics of a...</td>\n",
       "      <td>98</td>\n",
       "      <td>0</td>\n",
       "      <td>0</td>\n",
       "      <td>False</td>\n",
       "      <td>Sunday</td>\n",
       "      <td>Weekend</td>\n",
       "      <td>08:01</td>\n",
       "      <td>9</td>\n",
       "      <td>May</td>\n",
       "      <td>0</td>\n",
       "      <td>nofile</td>\n",
       "      <td>False</td>\n",
       "      <td>nolink</td>\n",
       "      <td>False</td>\n",
       "      <td>False</td>\n",
       "    </tr>\n",
       "    <tr>\n",
       "      <th>2</th>\n",
       "      <td>general</td>\n",
       "      <td>U01RRV4JX6Z</td>\n",
       "      <td>Francisco Ebeling</td>\n",
       "      <td>I feel like a slave to this dumb Resume Worded...</td>\n",
       "      <td>261</td>\n",
       "      <td>31</td>\n",
       "      <td>2</td>\n",
       "      <td>True</td>\n",
       "      <td>Sunday</td>\n",
       "      <td>Weekend</td>\n",
       "      <td>15:27</td>\n",
       "      <td>9</td>\n",
       "      <td>May</td>\n",
       "      <td>0</td>\n",
       "      <td>nofile</td>\n",
       "      <td>False</td>\n",
       "      <td>nolink</td>\n",
       "      <td>False</td>\n",
       "      <td>False</td>\n",
       "    </tr>\n",
       "    <tr>\n",
       "      <th>3</th>\n",
       "      <td>general</td>\n",
       "      <td>U01S79YDELR</td>\n",
       "      <td>Karina Condeixa</td>\n",
       "      <td>Francisco, we have to remove the fancy/beautif...</td>\n",
       "      <td>76</td>\n",
       "      <td>0</td>\n",
       "      <td>0</td>\n",
       "      <td>False</td>\n",
       "      <td>Sunday</td>\n",
       "      <td>Weekend</td>\n",
       "      <td>15:30</td>\n",
       "      <td>9</td>\n",
       "      <td>May</td>\n",
       "      <td>0</td>\n",
       "      <td>nofile</td>\n",
       "      <td>False</td>\n",
       "      <td>nolink</td>\n",
       "      <td>False</td>\n",
       "      <td>False</td>\n",
       "    </tr>\n",
       "    <tr>\n",
       "      <th>4</th>\n",
       "      <td>general</td>\n",
       "      <td>U01RRV4JX6Z</td>\n",
       "      <td>Francisco Ebeling</td>\n",
       "      <td>Ah, ok!</td>\n",
       "      <td>7</td>\n",
       "      <td>0</td>\n",
       "      <td>0</td>\n",
       "      <td>False</td>\n",
       "      <td>Sunday</td>\n",
       "      <td>Weekend</td>\n",
       "      <td>15:32</td>\n",
       "      <td>9</td>\n",
       "      <td>May</td>\n",
       "      <td>0</td>\n",
       "      <td>nofile</td>\n",
       "      <td>False</td>\n",
       "      <td>nolink</td>\n",
       "      <td>False</td>\n",
       "      <td>False</td>\n",
       "    </tr>\n",
       "  </tbody>\n",
       "</table>\n",
       "</div>"
      ],
      "text/plain": [
       "  channel_name         user          real_name  \\\n",
       "0      general  U01S79YDELR    Karina Condeixa   \n",
       "1      general  U01S79YDELR    Karina Condeixa   \n",
       "2      general  U01RRV4JX6Z  Francisco Ebeling   \n",
       "3      general  U01S79YDELR    Karina Condeixa   \n",
       "4      general  U01RRV4JX6Z  Francisco Ebeling   \n",
       "\n",
       "                                                text  text_length  \\\n",
       "0                Hang told me to add it in education           35   \n",
       "1  What improved my score was adding metrics of a...           98   \n",
       "2  I feel like a slave to this dumb Resume Worded...          261   \n",
       "3  Francisco, we have to remove the fancy/beautif...           76   \n",
       "4                                            Ah, ok!            7   \n",
       "\n",
       "   reply_count  reply_users_count  replies_true day_name day_type   time  \\\n",
       "0            0                  0         False   Sunday  Weekend  08:00   \n",
       "1            0                  0         False   Sunday  Weekend  08:01   \n",
       "2           31                  2          True   Sunday  Weekend  15:27   \n",
       "3            0                  0         False   Sunday  Weekend  15:30   \n",
       "4            0                  0         False   Sunday  Weekend  15:32   \n",
       "\n",
       "   day_number month  reactions_count link_of_file  files_true  \\\n",
       "0           9   May                0       nofile       False   \n",
       "1           9   May                0       nofile       False   \n",
       "2           9   May                0       nofile       False   \n",
       "3           9   May                0       nofile       False   \n",
       "4           9   May                0       nofile       False   \n",
       "\n",
       "  link_of_attachments  attachments_true  reaction_true  \n",
       "0              nolink             False          False  \n",
       "1              nolink             False          False  \n",
       "2              nolink             False          False  \n",
       "3              nolink             False          False  \n",
       "4              nolink             False          False  "
      ]
     },
     "execution_count": 3,
     "metadata": {},
     "output_type": "execute_result"
    }
   ],
   "source": [
    "# check data\n",
    "df.head()"
   ]
  },
  {
   "cell_type": "code",
   "execution_count": 4,
   "id": "brief-slovenia",
   "metadata": {},
   "outputs": [
    {
     "data": {
      "text/plain": [
       "channel_name           object\n",
       "user                   object\n",
       "real_name              object\n",
       "text                   object\n",
       "text_length             int64\n",
       "reply_count             int64\n",
       "reply_users_count       int64\n",
       "replies_true             bool\n",
       "day_name               object\n",
       "day_type               object\n",
       "time                   object\n",
       "day_number              int64\n",
       "month                  object\n",
       "reactions_count         int64\n",
       "link_of_file           object\n",
       "files_true               bool\n",
       "link_of_attachments    object\n",
       "attachments_true         bool\n",
       "reaction_true            bool\n",
       "dtype: object"
      ]
     },
     "execution_count": 4,
     "metadata": {},
     "output_type": "execute_result"
    }
   ],
   "source": [
    "df.dtypes"
   ]
  },
  {
   "cell_type": "code",
   "execution_count": 5,
   "id": "guided-amount",
   "metadata": {},
   "outputs": [],
   "source": [
    "# make a copy\n",
    "df_copy = df.copy()"
   ]
  },
  {
   "cell_type": "code",
   "execution_count": 6,
   "id": "separated-oakland",
   "metadata": {},
   "outputs": [
    {
     "data": {
      "text/html": [
       "<div>\n",
       "<style scoped>\n",
       "    .dataframe tbody tr th:only-of-type {\n",
       "        vertical-align: middle;\n",
       "    }\n",
       "\n",
       "    .dataframe tbody tr th {\n",
       "        vertical-align: top;\n",
       "    }\n",
       "\n",
       "    .dataframe thead th {\n",
       "        text-align: right;\n",
       "    }\n",
       "</style>\n",
       "<table border=\"1\" class=\"dataframe\">\n",
       "  <thead>\n",
       "    <tr style=\"text-align: right;\">\n",
       "      <th></th>\n",
       "      <th>text_length</th>\n",
       "      <th>reply_count</th>\n",
       "      <th>reply_users_count</th>\n",
       "      <th>day_number</th>\n",
       "      <th>reactions_count</th>\n",
       "    </tr>\n",
       "  </thead>\n",
       "  <tbody>\n",
       "    <tr>\n",
       "      <th>0</th>\n",
       "      <td>35</td>\n",
       "      <td>0</td>\n",
       "      <td>0</td>\n",
       "      <td>9</td>\n",
       "      <td>0</td>\n",
       "    </tr>\n",
       "    <tr>\n",
       "      <th>1</th>\n",
       "      <td>98</td>\n",
       "      <td>0</td>\n",
       "      <td>0</td>\n",
       "      <td>9</td>\n",
       "      <td>0</td>\n",
       "    </tr>\n",
       "    <tr>\n",
       "      <th>2</th>\n",
       "      <td>261</td>\n",
       "      <td>31</td>\n",
       "      <td>2</td>\n",
       "      <td>9</td>\n",
       "      <td>0</td>\n",
       "    </tr>\n",
       "    <tr>\n",
       "      <th>3</th>\n",
       "      <td>76</td>\n",
       "      <td>0</td>\n",
       "      <td>0</td>\n",
       "      <td>9</td>\n",
       "      <td>0</td>\n",
       "    </tr>\n",
       "    <tr>\n",
       "      <th>4</th>\n",
       "      <td>7</td>\n",
       "      <td>0</td>\n",
       "      <td>0</td>\n",
       "      <td>9</td>\n",
       "      <td>0</td>\n",
       "    </tr>\n",
       "  </tbody>\n",
       "</table>\n",
       "</div>"
      ],
      "text/plain": [
       "   text_length  reply_count  reply_users_count  day_number  reactions_count\n",
       "0           35            0                  0           9                0\n",
       "1           98            0                  0           9                0\n",
       "2          261           31                  2           9                0\n",
       "3           76            0                  0           9                0\n",
       "4            7            0                  0           9                0"
      ]
     },
     "execution_count": 6,
     "metadata": {},
     "output_type": "execute_result"
    }
   ],
   "source": [
    "# split numerical and categorical data into two dataframes\n",
    "df_num = df.select_dtypes(include=['number'])\n",
    "df_num.head()"
   ]
  },
  {
   "cell_type": "code",
   "execution_count": 7,
   "id": "global-appointment",
   "metadata": {},
   "outputs": [
    {
     "data": {
      "text/html": [
       "<div>\n",
       "<style scoped>\n",
       "    .dataframe tbody tr th:only-of-type {\n",
       "        vertical-align: middle;\n",
       "    }\n",
       "\n",
       "    .dataframe tbody tr th {\n",
       "        vertical-align: top;\n",
       "    }\n",
       "\n",
       "    .dataframe thead th {\n",
       "        text-align: right;\n",
       "    }\n",
       "</style>\n",
       "<table border=\"1\" class=\"dataframe\">\n",
       "  <thead>\n",
       "    <tr style=\"text-align: right;\">\n",
       "      <th></th>\n",
       "      <th>channel_name</th>\n",
       "      <th>user</th>\n",
       "      <th>real_name</th>\n",
       "      <th>text</th>\n",
       "      <th>replies_true</th>\n",
       "      <th>day_name</th>\n",
       "      <th>day_type</th>\n",
       "      <th>time</th>\n",
       "      <th>month</th>\n",
       "      <th>link_of_file</th>\n",
       "      <th>files_true</th>\n",
       "      <th>link_of_attachments</th>\n",
       "      <th>attachments_true</th>\n",
       "      <th>reaction_true</th>\n",
       "    </tr>\n",
       "  </thead>\n",
       "  <tbody>\n",
       "    <tr>\n",
       "      <th>0</th>\n",
       "      <td>general</td>\n",
       "      <td>U01S79YDELR</td>\n",
       "      <td>Karina Condeixa</td>\n",
       "      <td>Hang told me to add it in education</td>\n",
       "      <td>False</td>\n",
       "      <td>Sunday</td>\n",
       "      <td>Weekend</td>\n",
       "      <td>08:00</td>\n",
       "      <td>May</td>\n",
       "      <td>nofile</td>\n",
       "      <td>False</td>\n",
       "      <td>nolink</td>\n",
       "      <td>False</td>\n",
       "      <td>False</td>\n",
       "    </tr>\n",
       "    <tr>\n",
       "      <th>1</th>\n",
       "      <td>general</td>\n",
       "      <td>U01S79YDELR</td>\n",
       "      <td>Karina Condeixa</td>\n",
       "      <td>What improved my score was adding metrics of a...</td>\n",
       "      <td>False</td>\n",
       "      <td>Sunday</td>\n",
       "      <td>Weekend</td>\n",
       "      <td>08:01</td>\n",
       "      <td>May</td>\n",
       "      <td>nofile</td>\n",
       "      <td>False</td>\n",
       "      <td>nolink</td>\n",
       "      <td>False</td>\n",
       "      <td>False</td>\n",
       "    </tr>\n",
       "    <tr>\n",
       "      <th>2</th>\n",
       "      <td>general</td>\n",
       "      <td>U01RRV4JX6Z</td>\n",
       "      <td>Francisco Ebeling</td>\n",
       "      <td>I feel like a slave to this dumb Resume Worded...</td>\n",
       "      <td>True</td>\n",
       "      <td>Sunday</td>\n",
       "      <td>Weekend</td>\n",
       "      <td>15:27</td>\n",
       "      <td>May</td>\n",
       "      <td>nofile</td>\n",
       "      <td>False</td>\n",
       "      <td>nolink</td>\n",
       "      <td>False</td>\n",
       "      <td>False</td>\n",
       "    </tr>\n",
       "    <tr>\n",
       "      <th>3</th>\n",
       "      <td>general</td>\n",
       "      <td>U01S79YDELR</td>\n",
       "      <td>Karina Condeixa</td>\n",
       "      <td>Francisco, we have to remove the fancy/beautif...</td>\n",
       "      <td>False</td>\n",
       "      <td>Sunday</td>\n",
       "      <td>Weekend</td>\n",
       "      <td>15:30</td>\n",
       "      <td>May</td>\n",
       "      <td>nofile</td>\n",
       "      <td>False</td>\n",
       "      <td>nolink</td>\n",
       "      <td>False</td>\n",
       "      <td>False</td>\n",
       "    </tr>\n",
       "    <tr>\n",
       "      <th>4</th>\n",
       "      <td>general</td>\n",
       "      <td>U01RRV4JX6Z</td>\n",
       "      <td>Francisco Ebeling</td>\n",
       "      <td>Ah, ok!</td>\n",
       "      <td>False</td>\n",
       "      <td>Sunday</td>\n",
       "      <td>Weekend</td>\n",
       "      <td>15:32</td>\n",
       "      <td>May</td>\n",
       "      <td>nofile</td>\n",
       "      <td>False</td>\n",
       "      <td>nolink</td>\n",
       "      <td>False</td>\n",
       "      <td>False</td>\n",
       "    </tr>\n",
       "  </tbody>\n",
       "</table>\n",
       "</div>"
      ],
      "text/plain": [
       "  channel_name         user          real_name  \\\n",
       "0      general  U01S79YDELR    Karina Condeixa   \n",
       "1      general  U01S79YDELR    Karina Condeixa   \n",
       "2      general  U01RRV4JX6Z  Francisco Ebeling   \n",
       "3      general  U01S79YDELR    Karina Condeixa   \n",
       "4      general  U01RRV4JX6Z  Francisco Ebeling   \n",
       "\n",
       "                                                text  replies_true day_name  \\\n",
       "0                Hang told me to add it in education         False   Sunday   \n",
       "1  What improved my score was adding metrics of a...         False   Sunday   \n",
       "2  I feel like a slave to this dumb Resume Worded...          True   Sunday   \n",
       "3  Francisco, we have to remove the fancy/beautif...         False   Sunday   \n",
       "4                                            Ah, ok!         False   Sunday   \n",
       "\n",
       "  day_type   time month link_of_file  files_true link_of_attachments  \\\n",
       "0  Weekend  08:00   May       nofile       False              nolink   \n",
       "1  Weekend  08:01   May       nofile       False              nolink   \n",
       "2  Weekend  15:27   May       nofile       False              nolink   \n",
       "3  Weekend  15:30   May       nofile       False              nolink   \n",
       "4  Weekend  15:32   May       nofile       False              nolink   \n",
       "\n",
       "   attachments_true  reaction_true  \n",
       "0             False          False  \n",
       "1             False          False  \n",
       "2             False          False  \n",
       "3             False          False  \n",
       "4             False          False  "
      ]
     },
     "execution_count": 7,
     "metadata": {},
     "output_type": "execute_result"
    }
   ],
   "source": [
    "# split numerical and categorical data into two dataframes\n",
    "df_cat = df.select_dtypes(include=['object', 'bool'])\n",
    "df_cat.head()"
   ]
  },
  {
   "cell_type": "code",
   "execution_count": 8,
   "id": "therapeutic-surname",
   "metadata": {
    "scrolled": true
   },
   "outputs": [
    {
     "data": {
      "image/png": "[encoded data removed]",
      "text/plain": [
       "<Figure size 1296x720 with 2 Axes>"
      ]
     },
     "metadata": {
      "needs_background": "light"
     },
     "output_type": "display_data"
    }
   ],
   "source": [
    "#correlation for numerial columns\n",
    "corr_matrix = df_num.corr()\n",
    "fig, ax = plt.subplots(figsize = (18, 10))\n",
    "sns.heatmap(corr_matrix, cmap ='seismic', center = 0, annot=True);"
   ]
  },
  {
   "cell_type": "code",
   "execution_count": 9,
   "id": "formed-possibility",
   "metadata": {},
   "outputs": [],
   "source": [
    "#normalizer\n",
    "import numpy as np\n",
    "from sklearn.preprocessing import Normalizer\n",
    "X = df_num"
   ]
  },
  {
   "cell_type": "code",
   "execution_count": 10,
   "id": "boxed-institute",
   "metadata": {},
   "outputs": [
    {
     "data": {
      "text/html": [
       "<div>\n",
       "<style scoped>\n",
       "    .dataframe tbody tr th:only-of-type {\n",
       "        vertical-align: middle;\n",
       "    }\n",
       "\n",
       "    .dataframe tbody tr th {\n",
       "        vertical-align: top;\n",
       "    }\n",
       "\n",
       "    .dataframe thead th {\n",
       "        text-align: right;\n",
       "    }\n",
       "</style>\n",
       "<table border=\"1\" class=\"dataframe\">\n",
       "  <thead>\n",
       "    <tr style=\"text-align: right;\">\n",
       "      <th></th>\n",
       "      <th>text_length</th>\n",
       "      <th>reply_count</th>\n",
       "      <th>reply_users_count</th>\n",
       "      <th>day_number</th>\n",
       "      <th>reactions_count</th>\n",
       "    </tr>\n",
       "  </thead>\n",
       "  <tbody>\n",
       "    <tr>\n",
       "      <th>0</th>\n",
       "      <td>35</td>\n",
       "      <td>0</td>\n",
       "      <td>0</td>\n",
       "      <td>9</td>\n",
       "      <td>0</td>\n",
       "    </tr>\n",
       "    <tr>\n",
       "      <th>1</th>\n",
       "      <td>98</td>\n",
       "      <td>0</td>\n",
       "      <td>0</td>\n",
       "      <td>9</td>\n",
       "      <td>0</td>\n",
       "    </tr>\n",
       "    <tr>\n",
       "      <th>2</th>\n",
       "      <td>261</td>\n",
       "      <td>31</td>\n",
       "      <td>2</td>\n",
       "      <td>9</td>\n",
       "      <td>0</td>\n",
       "    </tr>\n",
       "    <tr>\n",
       "      <th>3</th>\n",
       "      <td>76</td>\n",
       "      <td>0</td>\n",
       "      <td>0</td>\n",
       "      <td>9</td>\n",
       "      <td>0</td>\n",
       "    </tr>\n",
       "    <tr>\n",
       "      <th>4</th>\n",
       "      <td>7</td>\n",
       "      <td>0</td>\n",
       "      <td>0</td>\n",
       "      <td>9</td>\n",
       "      <td>0</td>\n",
       "    </tr>\n",
       "  </tbody>\n",
       "</table>\n",
       "</div>"
      ],
      "text/plain": [
       "   text_length  reply_count  reply_users_count  day_number  reactions_count\n",
       "0           35            0                  0           9                0\n",
       "1           98            0                  0           9                0\n",
       "2          261           31                  2           9                0\n",
       "3           76            0                  0           9                0\n",
       "4            7            0                  0           9                0"
      ]
     },
     "execution_count": 10,
     "metadata": {},
     "output_type": "execute_result"
    }
   ],
   "source": [
    "#check X\n",
    "X.head(5)"
   ]
  },
  {
   "cell_type": "code",
   "execution_count": 11,
   "id": "hundred-shepherd",
   "metadata": {},
   "outputs": [],
   "source": [
    "# normalize and transform\n",
    "transformer = Normalizer().fit(X)\n",
    "x_normalized = transformer.transform(X)"
   ]
  },
  {
   "cell_type": "code",
   "execution_count": 12,
   "id": "impressive-kitchen",
   "metadata": {},
   "outputs": [],
   "source": [
    "# concat variables into X df\n",
    "X = pd.DataFrame(x_normalized, columns=X.columns)"
   ]
  },
  {
   "cell_type": "code",
   "execution_count": 13,
   "id": "facial-zimbabwe",
   "metadata": {},
   "outputs": [],
   "source": [
    "X_cols = X.columns"
   ]
  },
  {
   "cell_type": "code",
   "execution_count": 14,
   "id": "interstate-booking",
   "metadata": {},
   "outputs": [
    {
     "data": {
      "text/plain": [
       "Index(['channel_name', 'user', 'real_name', 'text', 'replies_true', 'day_name',\n",
       "       'day_type', 'time', 'month', 'link_of_file', 'files_true',\n",
       "       'link_of_attachments', 'attachments_true', 'reaction_true'],\n",
       "      dtype='object')"
      ]
     },
     "execution_count": 14,
     "metadata": {},
     "output_type": "execute_result"
    }
   ],
   "source": [
    "#check columns to copy into cat dataframe\n",
    "df_cat.columns"
   ]
  },
  {
   "cell_type": "code",
   "execution_count": 15,
   "id": "collaborative-inspector",
   "metadata": {},
   "outputs": [],
   "source": [
    "#encoding categorical features\n",
    "cat = pd.get_dummies(df_cat, columns=['files_true',\n",
    "       'replies_true', 'attachments_true', 'reaction_true'], drop_first = True)"
   ]
  },
  {
   "cell_type": "code",
   "execution_count": 16,
   "id": "aerial-future",
   "metadata": {},
   "outputs": [],
   "source": [
    "# drop customer_number column\n",
    "cat.drop(['channel_name', 'user', 'real_name', 'text', 'day_name',\n",
    "       'day_type', 'time', 'month', 'link_of_file', 'link_of_attachments'], axis=1, inplace=True)"
   ]
  },
  {
   "cell_type": "code",
   "execution_count": 17,
   "id": "productive-project",
   "metadata": {},
   "outputs": [
    {
     "data": {
      "text/html": [
       "<div>\n",
       "<style scoped>\n",
       "    .dataframe tbody tr th:only-of-type {\n",
       "        vertical-align: middle;\n",
       "    }\n",
       "\n",
       "    .dataframe tbody tr th {\n",
       "        vertical-align: top;\n",
       "    }\n",
       "\n",
       "    .dataframe thead th {\n",
       "        text-align: right;\n",
       "    }\n",
       "</style>\n",
       "<table border=\"1\" class=\"dataframe\">\n",
       "  <thead>\n",
       "    <tr style=\"text-align: right;\">\n",
       "      <th></th>\n",
       "      <th>files_true_True</th>\n",
       "      <th>replies_true_True</th>\n",
       "      <th>attachments_true_True</th>\n",
       "      <th>reaction_true_True</th>\n",
       "    </tr>\n",
       "  </thead>\n",
       "  <tbody>\n",
       "    <tr>\n",
       "      <th>0</th>\n",
       "      <td>0</td>\n",
       "      <td>0</td>\n",
       "      <td>0</td>\n",
       "      <td>0</td>\n",
       "    </tr>\n",
       "    <tr>\n",
       "      <th>1</th>\n",
       "      <td>0</td>\n",
       "      <td>0</td>\n",
       "      <td>0</td>\n",
       "      <td>0</td>\n",
       "    </tr>\n",
       "    <tr>\n",
       "      <th>2</th>\n",
       "      <td>0</td>\n",
       "      <td>1</td>\n",
       "      <td>0</td>\n",
       "      <td>0</td>\n",
       "    </tr>\n",
       "    <tr>\n",
       "      <th>3</th>\n",
       "      <td>0</td>\n",
       "      <td>0</td>\n",
       "      <td>0</td>\n",
       "      <td>0</td>\n",
       "    </tr>\n",
       "    <tr>\n",
       "      <th>4</th>\n",
       "      <td>0</td>\n",
       "      <td>0</td>\n",
       "      <td>0</td>\n",
       "      <td>0</td>\n",
       "    </tr>\n",
       "    <tr>\n",
       "      <th>...</th>\n",
       "      <td>...</td>\n",
       "      <td>...</td>\n",
       "      <td>...</td>\n",
       "      <td>...</td>\n",
       "    </tr>\n",
       "    <tr>\n",
       "      <th>4935</th>\n",
       "      <td>0</td>\n",
       "      <td>0</td>\n",
       "      <td>0</td>\n",
       "      <td>0</td>\n",
       "    </tr>\n",
       "    <tr>\n",
       "      <th>4936</th>\n",
       "      <td>0</td>\n",
       "      <td>0</td>\n",
       "      <td>0</td>\n",
       "      <td>0</td>\n",
       "    </tr>\n",
       "    <tr>\n",
       "      <th>4937</th>\n",
       "      <td>0</td>\n",
       "      <td>0</td>\n",
       "      <td>0</td>\n",
       "      <td>0</td>\n",
       "    </tr>\n",
       "    <tr>\n",
       "      <th>4938</th>\n",
       "      <td>0</td>\n",
       "      <td>0</td>\n",
       "      <td>0</td>\n",
       "      <td>1</td>\n",
       "    </tr>\n",
       "    <tr>\n",
       "      <th>4939</th>\n",
       "      <td>0</td>\n",
       "      <td>1</td>\n",
       "      <td>0</td>\n",
       "      <td>0</td>\n",
       "    </tr>\n",
       "  </tbody>\n",
       "</table>\n",
       "<p>4940 rows × 4 columns</p>\n",
       "</div>"
      ],
      "text/plain": [
       "      files_true_True  replies_true_True  attachments_true_True  \\\n",
       "0                   0                  0                      0   \n",
       "1                   0                  0                      0   \n",
       "2                   0                  1                      0   \n",
       "3                   0                  0                      0   \n",
       "4                   0                  0                      0   \n",
       "...               ...                ...                    ...   \n",
       "4935                0                  0                      0   \n",
       "4936                0                  0                      0   \n",
       "4937                0                  0                      0   \n",
       "4938                0                  0                      0   \n",
       "4939                0                  1                      0   \n",
       "\n",
       "      reaction_true_True  \n",
       "0                      0  \n",
       "1                      0  \n",
       "2                      0  \n",
       "3                      0  \n",
       "4                      0  \n",
       "...                  ...  \n",
       "4935                   0  \n",
       "4936                   0  \n",
       "4937                   0  \n",
       "4938                   1  \n",
       "4939                   0  \n",
       "\n",
       "[4940 rows x 4 columns]"
      ]
     },
     "execution_count": 17,
     "metadata": {},
     "output_type": "execute_result"
    }
   ],
   "source": [
    "#test cat df\n",
    "cat"
   ]
  },
  {
   "cell_type": "code",
   "execution_count": 18,
   "id": "phantom-protocol",
   "metadata": {},
   "outputs": [],
   "source": [
    "# dropping the reaction_true column as that's what we wanna predict\n",
    "cat_clean = cat.drop(['reaction_true_True'], axis=1)"
   ]
  },
  {
   "cell_type": "code",
   "execution_count": 19,
   "id": "statistical-paste",
   "metadata": {},
   "outputs": [],
   "source": [
    "# defining the target y\n",
    "y = cat['reaction_true_True']"
   ]
  },
  {
   "cell_type": "code",
   "execution_count": 20,
   "id": "respective-analysis",
   "metadata": {},
   "outputs": [
    {
     "data": {
      "text/plain": [
       "(4940, 4940, 4940)"
      ]
     },
     "execution_count": 20,
     "metadata": {},
     "output_type": "execute_result"
    }
   ],
   "source": [
    "#checking the len of x_normalized & cat_clean before merginf back together in X\n",
    "len(x_normalized), len(y), len(df)"
   ]
  },
  {
   "cell_type": "code",
   "execution_count": 21,
   "id": "advanced-respect",
   "metadata": {},
   "outputs": [],
   "source": [
    "# bring the numerical data (scaled)in with the categorical\n",
    "X = np.concatenate((x_normalized, cat_clean),axis=1)"
   ]
  },
  {
   "cell_type": "code",
   "execution_count": 22,
   "id": "committed-tribe",
   "metadata": {},
   "outputs": [
    {
     "data": {
      "text/plain": [
       "array([[0.96849293, 0.        , 0.        , ..., 0.        , 0.        ,\n",
       "        0.        ],\n",
       "       [0.9958095 , 0.        , 0.        , ..., 0.        , 0.        ,\n",
       "        0.        ],\n",
       "       [0.99240978, 0.11787243, 0.00760467, ..., 0.        , 1.        ,\n",
       "        0.        ],\n",
       "       ...,\n",
       "       [0.98573643, 0.        , 0.        , ..., 0.        , 0.        ,\n",
       "        0.        ],\n",
       "       [0.98787834, 0.        , 0.        , ..., 0.        , 0.        ,\n",
       "        0.        ],\n",
       "       [0.99991321, 0.00184486, 0.00184486, ..., 0.        , 1.        ,\n",
       "        0.        ]])"
      ]
     },
     "execution_count": 22,
     "metadata": {},
     "output_type": "execute_result"
    }
   ],
   "source": [
    "#test\n",
    "X"
   ]
  },
  {
   "cell_type": "code",
   "execution_count": 23,
   "id": "loving-relation",
   "metadata": {},
   "outputs": [],
   "source": [
    "#import model\n",
    "from sklearn.linear_model import LogisticRegression\n",
    "from sklearn.model_selection import train_test_split\n",
    "from sklearn import metrics\n",
    "from sklearn.metrics import accuracy_score\n",
    "from sklearn.metrics import confusion_matrix\n",
    "from sklearn.metrics import plot_confusion_matrix"
   ]
  },
  {
   "cell_type": "code",
   "execution_count": 24,
   "id": "local-reserve",
   "metadata": {},
   "outputs": [],
   "source": [
    "#train test split - splitting X and y each into 2 data sets(train data and test data)\n",
    "X_train, X_test, y_train, y_test =train_test_split(X, y, test_size= 0.4, random_state=40)"
   ]
  },
  {
   "cell_type": "code",
   "execution_count": 25,
   "id": "revised-biology",
   "metadata": {},
   "outputs": [],
   "source": [
    "#model development\n",
    "#create a Logistic Regression classifier (classification) object using LogisticRegression() function\n",
    "#fit model on the train set using fit()\n",
    "\n",
    "classification = LogisticRegression(random_state=0, solver='lbfgs',max_iter=400,\n",
    "                  multi_class='ovr').fit(X_train, y_train)"
   ]
  },
  {
   "cell_type": "code",
   "execution_count": 26,
   "id": "generic-importance",
   "metadata": {},
   "outputs": [],
   "source": [
    "#perform prediction on the test set using predict()\n",
    "from sklearn.metrics import accuracy_score \n",
    "predictions = classification.predict(X_test)"
   ]
  },
  {
   "cell_type": "code",
   "execution_count": 27,
   "id": "damaged-content",
   "metadata": {},
   "outputs": [
    {
     "data": {
      "text/plain": [
       "array([0, 0, 0, ..., 0, 0, 0], dtype=uint8)"
      ]
     },
     "execution_count": 27,
     "metadata": {},
     "output_type": "execute_result"
    }
   ],
   "source": [
    "#check the predictions array\n",
    "predictions"
   ]
  },
  {
   "cell_type": "code",
   "execution_count": 28,
   "id": "junior-impact",
   "metadata": {},
   "outputs": [
    {
     "data": {
      "text/plain": [
       "0.7975708502024291"
      ]
     },
     "execution_count": 28,
     "metadata": {},
     "output_type": "execute_result"
    }
   ],
   "source": [
    "#calculating the accuracy score\n",
    "accuracy_score(y_test, predictions)"
   ]
  },
  {
   "cell_type": "code",
   "execution_count": 29,
   "id": "baking-romantic",
   "metadata": {},
   "outputs": [
    {
     "data": {
      "text/plain": [
       "array([[1500,   11],\n",
       "       [ 389,   76]])"
      ]
     },
     "execution_count": 29,
     "metadata": {},
     "output_type": "execute_result"
    }
   ],
   "source": [
    "#defining the confusion matrix\n",
    "cnf_matrix = confusion_matrix(y_test, predictions)\n",
    "cnf_matrix"
   ]
  },
  {
   "cell_type": "code",
   "execution_count": 30,
   "id": "alien-universe",
   "metadata": {},
   "outputs": [
    {
     "data": {
      "image/png": "[encoded data removed]",
      "text/plain": [
       "<Figure size 432x288 with 2 Axes>"
      ]
     },
     "metadata": {
      "needs_background": "light"
     },
     "output_type": "display_data"
    }
   ],
   "source": [
    "#visualizing the confusion matrix\n",
    "group_names = ['True Neg','False Pos','False Neg','True Pos']\n",
    "group_counts = ['{0:0.0f}'.format(value) for value in\n",
    "                cnf_matrix.flatten()]\n",
    "group_percentages = ['{0:.2%}'.format(value) for value in\n",
    "                     cnf_matrix.flatten()/np.sum(cnf_matrix)]\n",
    "labels = [f'{v1}\\n{v2}\\n{v3}' for v1, v2, v3 in\n",
    "          zip(group_names,group_counts,group_percentages)]\n",
    "labels = np.asarray(labels).reshape(2,2)\n",
    "sns.heatmap(cnf_matrix, annot=labels, fmt='', cmap='PuRd');"
   ]
  },
  {
   "cell_type": "code",
   "execution_count": 31,
   "id": "supposed-montreal",
   "metadata": {},
   "outputs": [
    {
     "data": {
      "image/png": "[encoded data removed]",
      "text/plain": [
       "<Figure size 432x288 with 1 Axes>"
      ]
     },
     "metadata": {
      "needs_background": "light"
     },
     "output_type": "display_data"
    }
   ],
   "source": [
    "#visualising the ROC and AUC\n",
    "y_pred_proba = classification.predict_proba(X_test)[::,1]\n",
    "fpr, tpr, _ = metrics.roc_curve(y_test,  y_pred_proba)\n",
    "auc = metrics.roc_auc_score(y_test, y_pred_proba)\n",
    "\n",
    "plt.plot(fpr,tpr,label=\"data 1, auc=\"+str(auc), color='k')\n",
    "plt.legend(loc=4)\n",
    "plt.show()"
   ]
  },
  {
   "cell_type": "code",
   "execution_count": null,
   "id": "informal-wages",
   "metadata": {},
   "outputs": [],
   "source": []
  }
 ],
 "metadata": {
  "kernelspec": {
   "display_name": "Python 3",
   "language": "python",
   "name": "python3"
  },
  "language_info": {
   "codemirror_mode": {
    "name": "ipython",
    "version": 3
   },
   "file_extension": ".py",
   "mimetype": "text/x-python",
   "name": "python",
   "nbconvert_exporter": "python",
   "pygments_lexer": "ipython3",
   "version": "3.8.5"
  }
 },
 "nbformat": 4,
 "nbformat_minor": 5
}
