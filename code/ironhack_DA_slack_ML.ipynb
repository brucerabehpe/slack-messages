{
 "cells": [
  {
   "cell_type": "markdown",
   "id": "stylish-humor",
   "metadata": {},
   "source": [
    "EDA\n",
    "- how much traffic per channel\n",
    "- count of messages per person\n",
    "- avg length of messages per person\n",
    "- longest messages by person\n",
    "- reaction to longer messages vs shorter messages\n",
    "- which post gets the most reaction/traction \n",
    "- what time of the day students are posting the most per day\n",
    "- distribution of  % links, % memes, % emojis\n",
    "- frequency of messages from teaching staff vs students\n",
    "- statistics of mentions within a date range\n",
    "- which channel is the most useful(most messages)\n",
    "- measure reactions based on length of messages\n",
    "- text features: ??, !!, capital letters, bolded statements, technical terms"
   ]
  },
  {
   "cell_type": "code",
   "execution_count": 32,
   "id": "seeing-syria",
   "metadata": {},
   "outputs": [],
   "source": [
    "import numpy as np\n",
    "import pandas as pd\n",
    "import seaborn as sb"
   ]
  },
  {
   "cell_type": "code",
   "execution_count": 33,
   "id": "upset-nurse",
   "metadata": {
    "scrolled": true
   },
   "outputs": [],
   "source": [
    "df = pd.read_csv('../data/data_clean.csv')"
   ]
  },
  {
   "cell_type": "code",
   "execution_count": 34,
   "id": "expected-civilization",
   "metadata": {},
   "outputs": [
    {
     "data": {
      "text/html": [
       "<div>\n",
       "<style scoped>\n",
       "    .dataframe tbody tr th:only-of-type {\n",
       "        vertical-align: middle;\n",
       "    }\n",
       "\n",
       "    .dataframe tbody tr th {\n",
       "        vertical-align: top;\n",
       "    }\n",
       "\n",
       "    .dataframe thead th {\n",
       "        text-align: right;\n",
       "    }\n",
       "</style>\n",
       "<table border=\"1\" class=\"dataframe\">\n",
       "  <thead>\n",
       "    <tr style=\"text-align: right;\">\n",
       "      <th></th>\n",
       "      <th>channel_name</th>\n",
       "      <th>user</th>\n",
       "      <th>real_name</th>\n",
       "      <th>text</th>\n",
       "      <th>text_length</th>\n",
       "      <th>reply_count</th>\n",
       "      <th>reply_users_count</th>\n",
       "      <th>day_number</th>\n",
       "      <th>month</th>\n",
       "      <th>day_type</th>\n",
       "      <th>time</th>\n",
       "      <th>link_of_file</th>\n",
       "      <th>link_of_attachments</th>\n",
       "      <th>reactions_count</th>\n",
       "    </tr>\n",
       "  </thead>\n",
       "  <tbody>\n",
       "    <tr>\n",
       "      <th>0</th>\n",
       "      <td>general</td>\n",
       "      <td>U01S79YDELR</td>\n",
       "      <td>Karina Condeixa</td>\n",
       "      <td>Hang told me to add it in education</td>\n",
       "      <td>35</td>\n",
       "      <td>0</td>\n",
       "      <td>0</td>\n",
       "      <td>6</td>\n",
       "      <td>May</td>\n",
       "      <td>Weekend</td>\n",
       "      <td>08:00</td>\n",
       "      <td>nofile</td>\n",
       "      <td>nolink</td>\n",
       "      <td>0</td>\n",
       "    </tr>\n",
       "    <tr>\n",
       "      <th>1</th>\n",
       "      <td>general</td>\n",
       "      <td>U01S79YDELR</td>\n",
       "      <td>Karina Condeixa</td>\n",
       "      <td>What improved my score was adding metrics of a...</td>\n",
       "      <td>98</td>\n",
       "      <td>0</td>\n",
       "      <td>0</td>\n",
       "      <td>6</td>\n",
       "      <td>May</td>\n",
       "      <td>Weekend</td>\n",
       "      <td>08:01</td>\n",
       "      <td>nofile</td>\n",
       "      <td>nolink</td>\n",
       "      <td>0</td>\n",
       "    </tr>\n",
       "    <tr>\n",
       "      <th>2</th>\n",
       "      <td>general</td>\n",
       "      <td>U01RRV4JX6Z</td>\n",
       "      <td>Francisco Ebeling</td>\n",
       "      <td>I feel like a slave to this dumb Resume Worded...</td>\n",
       "      <td>261</td>\n",
       "      <td>31</td>\n",
       "      <td>2</td>\n",
       "      <td>6</td>\n",
       "      <td>May</td>\n",
       "      <td>Weekend</td>\n",
       "      <td>15:27</td>\n",
       "      <td>nofile</td>\n",
       "      <td>nolink</td>\n",
       "      <td>0</td>\n",
       "    </tr>\n",
       "    <tr>\n",
       "      <th>3</th>\n",
       "      <td>general</td>\n",
       "      <td>U01S79YDELR</td>\n",
       "      <td>Karina Condeixa</td>\n",
       "      <td>Francisco, we have to remove the fancy/beautif...</td>\n",
       "      <td>76</td>\n",
       "      <td>0</td>\n",
       "      <td>0</td>\n",
       "      <td>6</td>\n",
       "      <td>May</td>\n",
       "      <td>Weekend</td>\n",
       "      <td>15:30</td>\n",
       "      <td>nofile</td>\n",
       "      <td>nolink</td>\n",
       "      <td>0</td>\n",
       "    </tr>\n",
       "    <tr>\n",
       "      <th>4</th>\n",
       "      <td>general</td>\n",
       "      <td>U01RRV4JX6Z</td>\n",
       "      <td>Francisco Ebeling</td>\n",
       "      <td>Ah, ok!</td>\n",
       "      <td>7</td>\n",
       "      <td>0</td>\n",
       "      <td>0</td>\n",
       "      <td>6</td>\n",
       "      <td>May</td>\n",
       "      <td>Weekend</td>\n",
       "      <td>15:32</td>\n",
       "      <td>nofile</td>\n",
       "      <td>nolink</td>\n",
       "      <td>0</td>\n",
       "    </tr>\n",
       "  </tbody>\n",
       "</table>\n",
       "</div>"
      ],
      "text/plain": [
       "  channel_name         user          real_name  \\\n",
       "0      general  U01S79YDELR    Karina Condeixa   \n",
       "1      general  U01S79YDELR    Karina Condeixa   \n",
       "2      general  U01RRV4JX6Z  Francisco Ebeling   \n",
       "3      general  U01S79YDELR    Karina Condeixa   \n",
       "4      general  U01RRV4JX6Z  Francisco Ebeling   \n",
       "\n",
       "                                                text  text_length  \\\n",
       "0                Hang told me to add it in education           35   \n",
       "1  What improved my score was adding metrics of a...           98   \n",
       "2  I feel like a slave to this dumb Resume Worded...          261   \n",
       "3  Francisco, we have to remove the fancy/beautif...           76   \n",
       "4                                            Ah, ok!            7   \n",
       "\n",
       "   reply_count  reply_users_count  day_number month day_type   time  \\\n",
       "0            0                  0           6   May  Weekend  08:00   \n",
       "1            0                  0           6   May  Weekend  08:01   \n",
       "2           31                  2           6   May  Weekend  15:27   \n",
       "3            0                  0           6   May  Weekend  15:30   \n",
       "4            0                  0           6   May  Weekend  15:32   \n",
       "\n",
       "  link_of_file link_of_attachments  reactions_count  \n",
       "0       nofile              nolink                0  \n",
       "1       nofile              nolink                0  \n",
       "2       nofile              nolink                0  \n",
       "3       nofile              nolink                0  \n",
       "4       nofile              nolink                0  "
      ]
     },
     "execution_count": 34,
     "metadata": {},
     "output_type": "execute_result"
    }
   ],
   "source": [
    "df.head()"
   ]
  },
  {
   "cell_type": "code",
   "execution_count": 38,
   "id": "guided-amount",
   "metadata": {},
   "outputs": [
    {
     "data": {
      "text/plain": [
       "<AxesSubplot:>"
      ]
     },
     "execution_count": 38,
     "metadata": {},
     "output_type": "execute_result"
    },
    {
     "data": {
      "image/png": "[encoded data removed]",
      "text/plain": [
       "<Figure size 432x288 with 1 Axes>"
      ]
     },
     "metadata": {
      "needs_background": "light"
     },
     "output_type": "display_data"
    }
   ],
   "source": [
    "# how much traffic per channel\n",
    "df['day_number'].value_counts().plot(kind=\"bar\")"
   ]
  },
  {
   "cell_type": "code",
   "execution_count": 36,
   "id": "urban-chapter",
   "metadata": {
    "scrolled": true
   },
   "outputs": [
    {
     "data": {
      "text/plain": [
       "<AxesSubplot:>"
      ]
     },
     "execution_count": 36,
     "metadata": {},
     "output_type": "execute_result"
    },
    {
     "data": {
      "image/png": "[encoded data removed]",
      "text/plain": [
       "<Figure size 432x288 with 1 Axes>"
      ]
     },
     "metadata": {
      "needs_background": "light"
     },
     "output_type": "display_data"
    }
   ],
   "source": [
    "# count of messages per person\n",
    "df['real_name'].value_counts().plot(kind=\"bar\")"
   ]
  },
  {
   "cell_type": "code",
   "execution_count": 37,
   "id": "olympic-production",
   "metadata": {},
   "outputs": [
    {
     "data": {
      "text/plain": [
       "<AxesSubplot:>"
      ]
     },
     "execution_count": 37,
     "metadata": {},
     "output_type": "execute_result"
    },
    {
     "data": {
      "image/png": "[encoded data removed]",
      "text/plain": [
       "<Figure size 432x288 with 1 Axes>"
      ]
     },
     "metadata": {
      "needs_background": "light"
     },
     "output_type": "display_data"
    }
   ],
   "source": [
    "# length of messages per person\n",
    "df['text_length'][:5].value_counts().plot(kind=\"bar\")"
   ]
  },
  {
   "cell_type": "code",
   "execution_count": null,
   "id": "comparative-thursday",
   "metadata": {},
   "outputs": [],
   "source": []
  },
  {
   "cell_type": "code",
   "execution_count": null,
   "id": "separated-oakland",
   "metadata": {},
   "outputs": [],
   "source": []
  },
  {
   "cell_type": "code",
   "execution_count": null,
   "id": "global-appointment",
   "metadata": {},
   "outputs": [],
   "source": []
  },
  {
   "cell_type": "code",
   "execution_count": null,
   "id": "therapeutic-surname",
   "metadata": {},
   "outputs": [],
   "source": []
  }
 ],
 "metadata": {
  "kernelspec": {
   "display_name": "Python 3",
   "language": "python",
   "name": "python3"
  },
  "language_info": {
   "codemirror_mode": {
    "name": "ipython",
    "version": 3
   },
   "file_extension": ".py",
   "mimetype": "text/x-python",
   "name": "python",
   "nbconvert_exporter": "python",
   "pygments_lexer": "ipython3",
   "version": "3.8.5"
  }
 },
 "nbformat": 4,
 "nbformat_minor": 5
}
